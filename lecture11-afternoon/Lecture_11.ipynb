{
 "cells": [
  {
   "cell_type": "markdown",
   "metadata": {
    "id": "BuXYLTLs7rlI"
   },
   "source": [
    "# Lecture 11\n",
    "\n",
    "Here we use the E-car dataset on car loan applications.\n",
    "\n",
    "IF you're running this on Google Colab, and only then, should you run this cell:"
   ]
  },
  {
   "cell_type": "code",
   "execution_count": null,
   "metadata": {
    "id": "T2lWLSol78F8"
   },
   "outputs": [],
   "source": [
    "# !! Run this on Google Colab only.\n",
    "from google.colab import drive\n",
    "drive.mount('/content/drive')"
   ]
  },
  {
   "cell_type": "markdown",
   "metadata": {
    "id": "pn01QLMe8HVw"
   },
   "source": [
    "Import the required modules"
   ]
  },
  {
   "cell_type": "code",
   "execution_count": 1,
   "metadata": {
    "id": "2WiD9xJk8Jfj"
   },
   "outputs": [
    {
     "name": "stderr",
     "output_type": "stream",
     "text": [
      "/Users/yuanyuan/opt/anaconda3/lib/python3.8/site-packages/scipy/__init__.py:146: UserWarning: A NumPy version >=1.16.5 and <1.23.0 is required for this version of SciPy (detected version 1.24.4\n",
      "  warnings.warn(f\"A NumPy version >={np_minversion} and <{np_maxversion}\"\n"
     ]
    }
   ],
   "source": [
    "from sklearn.linear_model import LogisticRegression\n",
    "from sklearn.model_selection import train_test_split\n",
    "from sklearn import metrics\n",
    "from sklearn import preprocessing\n",
    "import pandas as pd\n",
    "\n",
    "import matplotlib.pyplot as plt\n",
    "import seaborn as sns  # Seaborn is a plotting library derived from matplotlib"
   ]
  },
  {
   "cell_type": "markdown",
   "metadata": {
    "id": "ivf6xuLs8N6W"
   },
   "source": [
    "Load the dataset:"
   ]
  },
  {
   "cell_type": "code",
   "execution_count": null,
   "metadata": {
    "id": "QNfDlC6w8PW_"
   },
   "outputs": [],
   "source": [
    "DATA_FILEPATH = \"drive/MyDrive/e_car_data.csv\"\n",
    "df = pd.read_csv(DATA_FILEPATH)"
   ]
  },
  {
   "cell_type": "markdown",
   "metadata": {
    "id": "MY2wD2c6-rfz"
   },
   "source": [
    "Show summary statistics:"
   ]
  },
  {
   "cell_type": "code",
   "execution_count": null,
   "metadata": {
    "id": "08A2CnnZ-xYH"
   },
   "outputs": [],
   "source": [
    "df.describe()"
   ]
  },
  {
   "cell_type": "markdown",
   "metadata": {
    "id": "xZ3WWE0d_cJa"
   },
   "source": [
    "Prepare data for multi-class logistic regression, with three features:"
   ]
  },
  {
   "cell_type": "code",
   "execution_count": null,
   "metadata": {
    "id": "N8Xy9IcV_BLn"
   },
   "outputs": [],
   "source": [
    "x1 = df[['tier', 'amount', 'prime']].values\n",
    "\n",
    "x_scaled = preprocessing.scale(x1)\n",
    "\n",
    "apr = df['apr'].values\n",
    "accept = df['accept'].values"
   ]
  },
  {
   "cell_type": "markdown",
   "metadata": {
    "id": "fZybA9898hwe"
   },
   "source": [
    "Place loans into 8 unordered classes / bins, depending on their acceptance (1-4 for denied, 5-8 for accepted) and their Annual Percentage Rate (APR, into 4 classes each):"
   ]
  },
  {
   "cell_type": "code",
   "execution_count": null,
   "metadata": {
    "id": "q0Twh5ek8tTj"
   },
   "outputs": [],
   "source": [
    "def loan_to_bin(accept_value, apr_value):\n",
    "  offset = 0\n",
    "  if accept_value:\n",
    "    offset = 4\n",
    "\n",
    "  if apr_value < 4:\n",
    "    return offset\n",
    "\n",
    "  if apr_value < 6:\n",
    "    return 1 + offset\n",
    "\n",
    "  if apr_value < 8:\n",
    "    return 2 + offset\n",
    "\n",
    "  return 3 + offset"
   ]
  },
  {
   "cell_type": "markdown",
   "metadata": {
    "id": "WLqgrt7v9KXY"
   },
   "source": [
    "Create new labels for the dataset:"
   ]
  },
  {
   "cell_type": "code",
   "execution_count": null,
   "metadata": {
    "id": "5QkZwo3V93D-"
   },
   "outputs": [],
   "source": [
    "y = []\n",
    "for i in range(len(apr)):\n",
    "    accept_value = accept[i]\n",
    "    apr_value = apr[i]\n",
    "    bin = loan_to_bin(accept_value, apr_value)\n",
    "    y.append(bin)\n",
    "\n",
    "# Alternative in one-line with a list comprehension (but less readable):\n",
    "# y = [loan_to_bin(accept[i], apr[i]) for i in range(len(apr))]"
   ]
  },
  {
   "cell_type": "markdown",
   "metadata": {
    "id": "cvb9gygP-bfF"
   },
   "source": [
    "Split the data into train and test (90/10 split):\n"
   ]
  },
  {
   "cell_type": "code",
   "execution_count": null,
   "metadata": {
    "id": "-W8o9MLJ-dKM"
   },
   "outputs": [],
   "source": [
    "x_train, x_test, y_train, y_test = train_test_split(x_scaled, y, test_size=0.1)"
   ]
  },
  {
   "cell_type": "markdown",
   "metadata": {
    "id": "5K7qOFFK-hfu"
   },
   "source": [
    "Train the model. The argument `multi_class` is now redundant: when the outcomes have 3 or more classes, ScitKit-Learn understands that you want to run a multinomial model, and started showing a warning. I prefer to have the argument and the warning, because the code is more readable in that we want multinomial regression."
   ]
  },
  {
   "cell_type": "code",
   "execution_count": null,
   "metadata": {
    "id": "0-nMtrgm-i1q"
   },
   "outputs": [],
   "source": [
    "model = LogisticRegression(multi_class='multinomial').fit(x_train, y_train)"
   ]
  },
  {
   "cell_type": "markdown",
   "metadata": {
    "id": "7X_zG6yu-lhX"
   },
   "source": [
    "Predict the values in the test set, using the built-in function `.predict()`, and evaluate accuracy:"
   ]
  },
  {
   "cell_type": "code",
   "execution_count": null,
   "metadata": {
    "id": "qkTMzOfhAbYF"
   },
   "outputs": [],
   "source": [
    "y_test_predict = model.predict(x_test)\n",
    "accuracy = metrics.accuracy_score(y_test, y_test_predict)\n",
    "print (\"Multi-class logistic regression Accuracy Score on Test Set:\", accuracy)"
   ]
  },
  {
   "cell_type": "markdown",
   "metadata": {
    "id": "8FkjLCflAslI"
   },
   "source": [
    "Show the \"confusion\" matrix, or predicted labels versus true labels"
   ]
  },
  {
   "cell_type": "code",
   "execution_count": null,
   "metadata": {
    "id": "RPFu96K-Auaq"
   },
   "outputs": [],
   "source": [
    "predicted = model.predict(x_train)\n",
    "mat = metrics.confusion_matrix(y_train, predicted)\n",
    "sns.heatmap(mat.T,\n",
    "            square = True,\n",
    "            annot=True,\n",
    "            fmt = \"d\",\n",
    "            )\n",
    "plt.xlabel(\"true labels\")\n",
    "plt.ylabel(\"predicted label\")\n",
    "plt.show()"
   ]
  },
  {
   "cell_type": "markdown",
   "metadata": {
    "id": "roOVPyDguW3q"
   },
   "source": [
    "# TODO: run the previous cells again, without scaling\n",
    "\n",
    "Go back to a previous cell and remove or comment the line that scales the features. How does the multi-class logistic regression behave now? Why?"
   ]
  },
  {
   "cell_type": "markdown",
   "metadata": {
    "id": "4TiBabp9EF4N"
   },
   "source": [
    "# Perceptron\n",
    "\n",
    "Now let's fit a perceptron on the same dataset, using a single variable for loan approved or not.\n",
    "\n",
    "Import the Perceptron model from ScitKit-Learn:"
   ]
  },
  {
   "cell_type": "code",
   "execution_count": null,
   "metadata": {
    "id": "9uKZqrZ3EMud"
   },
   "outputs": [],
   "source": [
    "from sklearn.linear_model import Perceptron"
   ]
  },
  {
   "cell_type": "markdown",
   "metadata": {
    "id": "H-Inm5AwEWtp"
   },
   "source": [
    "Define the outcome and the features:"
   ]
  },
  {
   "cell_type": "code",
   "execution_count": null,
   "metadata": {
    "id": "TX9QjUY4ERb9"
   },
   "outputs": [],
   "source": [
    "y = df['accept'].values\n",
    "columns = ['tier',\n",
    "           'amount',\n",
    "           'apr',\n",
    "           'prime',\n",
    "           'fico',\n",
    "           'competition apr',\n",
    "           'partner bin']\n",
    "x2 = df[columns].values"
   ]
  },
  {
   "cell_type": "markdown",
   "metadata": {
    "id": "R9EHC19HEqt6"
   },
   "source": [
    "Normalize the data, to help with convergence, and split into training set and validation set:"
   ]
  },
  {
   "cell_type": "code",
   "execution_count": null,
   "metadata": {
    "id": "CWSReyJHEtk8"
   },
   "outputs": [],
   "source": [
    "x2_scaled = preprocessing.scale(x2)\n",
    "x_train, x_test, y_train, y_test = train_test_split(x2_scaled, y, test_size=0.1)"
   ]
  },
  {
   "cell_type": "markdown",
   "metadata": {
    "id": "jndWvIPVIGSL"
   },
   "source": [
    "Train a perceptron with a learning rate:"
   ]
  },
  {
   "cell_type": "code",
   "execution_count": null,
   "metadata": {
    "id": "cKc9O6G8FB-O"
   },
   "outputs": [],
   "source": [
    "pmodel = Perceptron(eta0=0.1)\n",
    "pmodel.fit(x_train, y_train)\n",
    "y_test_predict = pmodel.predict(x_test)\n",
    "accuracy = metrics.accuracy_score(y_test, y_test_predict)\n",
    "print(\"Perceptron Accuracy Score on Test Set: %.5f\" % accuracy)"
   ]
  },
  {
   "cell_type": "markdown",
   "metadata": {
    "id": "4zA25wb5LaMl"
   },
   "source": [
    "# Multi-layer perceptron\n",
    "\n",
    "We'll use a model from SciKit-Learn, which already has all we need (e.g., cross-entropy loss function). We define two hidden layers, with 64 and 32 neurons, and fit it to data. Notice that the accuracy has impoved to around 80%."
   ]
  },
  {
   "cell_type": "code",
   "execution_count": null,
   "metadata": {
    "id": "CW7tvU76LjSs"
   },
   "outputs": [],
   "source": [
    "from sklearn.neural_network import MLPClassifier\n",
    "\n",
    "mlp = MLPClassifier(hidden_layer_sizes=(64, 32),\n",
    "                    activation=\"logistic\",\n",
    "                    max_iter=1000,\n",
    "                    random_state=42)\n",
    "\n",
    "mlp.fit(x_train, y_train)\n",
    "\n",
    "# Make predictions on the test data\n",
    "y_pred = mlp.predict(x_test)\n",
    "\n",
    "# Calculate the accuracy of the model\n",
    "accuracy = metrics.accuracy_score(y_test, y_pred)\n",
    "print(\"Accuracy of multi-layer perceptron on test data: %.5f\" %\n",
    "      accuracy)"
   ]
  }
 ],
 "metadata": {
  "colab": {
   "provenance": []
  },
  "kernelspec": {
   "display_name": "Python 3",
   "language": "python",
   "name": "python3"
  },
  "language_info": {
   "codemirror_mode": {
    "name": "ipython",
    "version": 3
   },
   "file_extension": ".py",
   "mimetype": "text/x-python",
   "name": "python",
   "nbconvert_exporter": "python",
   "pygments_lexer": "ipython3",
   "version": "3.8.8"
  }
 },
 "nbformat": 4,
 "nbformat_minor": 1
}
